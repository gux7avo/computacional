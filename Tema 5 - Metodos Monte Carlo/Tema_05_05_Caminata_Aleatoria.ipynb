{
 "cells": [
  {
   "cell_type": "markdown",
   "metadata": {},
   "source": [
    "# Ejercicio 1. Una caminata aleatoria.\n",
    "\n",
    "Vamos a simular el movimiento de una partícula haciendo una caminata aleatoria en una dimensión.\n",
    "\n",
    "1. La partícula se mueve una distancia dx durante un tiempo $dt$.\n",
    "2. Luego cambia aleatoriamente de dirección: $+dx$ con probabilidad $p$ y en $-dx$ con probabilidad $1 - p$.\n",
    "\n",
    "Discretizamos el tiempo en unidades de $dt$, de modo que:\n",
    "\n",
    "$$ t_{n} = 0, \\, dt, \\, 2 \\, dt, \\ldots = n \\, dt $$\n",
    "\n",
    "Por lo tanto la posición de la partícula en cada instante de tiempo viene dada por:\n",
    "$$\n",
    "\\begin{align*}\n",
    "xn &= x (t_{n}) \\\\\n",
    "&= x (t{n-1}) \\pm dx\n",
    "\\end{align*}\n",
    "$$\n",
    "\n",
    "con probabilidad $p$ y $q$ respectivamente."
   ]
  },
  {
   "cell_type": "markdown",
   "metadata": {},
   "source": [
    "En el ejercicio, guardaremos la posición de la partícula como función del tiempo.\n",
    "\n",
    "Se define la posición inicial como <code>x[0] = 0</code>"
   ]
  },
  {
   "cell_type": "code",
   "execution_count": null,
   "metadata": {},
   "outputs": [],
   "source": [
    "%matplotlib inline\n",
    "\n",
    "import random\n",
    "import matplotlib.pyplot as plt\n",
    "\n",
    "p = \n",
    "dx = \n",
    "t = \n",
    "x = []\n",
    "x[0] = \n",
    "\n",
    "for i in range(1, t-1):\n",
    "    if random.random() < p:\n",
    "        x.append(x[i-1] + dx)\n",
    "    else:\n",
    "        x.append(x[i-1] - dx)\n",
    "\n",
    "# Rutina de graficación"
   ]
  },
  {
   "cell_type": "markdown",
   "metadata": {},
   "source": [
    "# Ejercicio 2. Agregando más caminatas.\n",
    "\n",
    "Pasamos a generar $10, 50, 100$ caminatas aleatorias que parten todas del mismo punto: <code>x[i][0] = 0</code>.\n",
    "\n",
    "Para $n = 50, \\, 100$, se utilizará un $t = 500$, para $n = 100 \\rightarrow t = 1000$."
   ]
  },
  {
   "cell_type": "code",
   "execution_count": null,
   "metadata": {},
   "outputs": [],
   "source": [
    "import numpy as np\n",
    "\n",
    "p = \n",
    "dx =\n",
    "n = \n",
    "t = \n",
    "x = np.zeros()\n",
    "\n",
    "for i in range(n):\n",
    "    x[i][0] = 0\n",
    "    \n",
    "    for j in range (1, t):\n",
    "        if random.random() < p:\n",
    "            x[i][j] = x[i][j-1] + dx\n",
    "        else:\n",
    "            x[i][j] = x[i][j-1] - dx\n",
    "\n",
    "# Recuerda elaborar la rutina de graficación"
   ]
  },
  {
   "cell_type": "markdown",
   "metadata": {},
   "source": [
    "## ¿Cuál será el valor medio de la caminata?\n",
    "\n",
    "Calculamos el promedio de la caminata en el arreglo que nos devuelve el código.\n",
    "\n",
    "Para ello nos apoyamos en la función de <code>numpy.mean(x)</code> veremos un ejemplo de cómo opera la función."
   ]
  },
  {
   "cell_type": "code",
   "execution_count": null,
   "metadata": {},
   "outputs": [],
   "source": [
    "import numpy as np\n",
    "\n",
    "a = np.array([[1,2], [3,4]])\n",
    "\n",
    "print(a.ndim)\n",
    "print(a.shape)"
   ]
  },
  {
   "cell_type": "code",
   "execution_count": null,
   "metadata": {},
   "outputs": [],
   "source": [
    "np.mean(a)"
   ]
  },
  {
   "cell_type": "code",
   "execution_count": null,
   "metadata": {},
   "outputs": [],
   "source": [
    "np.mean(a, axis=0)"
   ]
  },
  {
   "cell_type": "code",
   "execution_count": null,
   "metadata": {},
   "outputs": [],
   "source": [
    "np.mean(a, axis=1)"
   ]
  },
  {
   "cell_type": "markdown",
   "metadata": {},
   "source": [
    "Ahora calculamos la media de la caminata aleatoria:"
   ]
  },
  {
   "cell_type": "code",
   "execution_count": null,
   "metadata": {},
   "outputs": [],
   "source": [
    "media = np.mean(x, axis=0)\n",
    "\n",
    "# Con la correspondiente graficación"
   ]
  },
  {
   "cell_type": "markdown",
   "metadata": {},
   "source": [
    "Una forma de cuantificar la dispersión de las partículas es calculando **la varianza**, esto es la distancia cuadrática de los puntos respecto del valor medio.\n",
    "\n",
    "$$\n",
    "\\begin{align*}\n",
    "\\sigma (x) = < x^{2} > - < x >^{2}\n",
    "\\end{align*}\n",
    "$$\n",
    "\n",
    "Hacemos el correspondiente ajusta para el cálculo de la varianza y preparamos la gráfica."
   ]
  },
  {
   "cell_type": "code",
   "execution_count": null,
   "metadata": {},
   "outputs": [],
   "source": [
    "varianza = \n",
    "\n",
    "# Más la rutina de graficación"
   ]
  },
  {
   "cell_type": "markdown",
   "metadata": {},
   "source": [
    "# Módulo Turtle\n",
    "\n",
    "Es una interfaz gráfica popular para la acercar a los menores y adolescentes en la programación.\n"
   ]
  },
  {
   "cell_type": "code",
   "execution_count": null,
   "metadata": {},
   "outputs": [],
   "source": [
    "from turtle import *\n",
    "\n",
    "forward(50)\n",
    "right(25)\n",
    "forward(50)\n",
    "\n",
    "done()"
   ]
  },
  {
   "cell_type": "markdown",
   "metadata": {},
   "source": [
    "## Una imagen sencilla con turtle"
   ]
  },
  {
   "cell_type": "code",
   "execution_count": null,
   "metadata": {},
   "outputs": [],
   "source": [
    "color('red', 'yellow')\n",
    "begin_fill()\n",
    "\n",
    "while True:\n",
    "    forward(200)\n",
    "    left(170)\n",
    "    if abs(pos()) < 1:\n",
    "        break\n",
    "\n",
    "        end_fill()\n",
    "done()"
   ]
  },
  {
   "cell_type": "markdown",
   "metadata": {},
   "source": [
    "# El modelo HSV (Teoría del color).\n",
    "\n",
    "El modelo HSV (del inglés Hue, Saturation, Value – Matiz, Saturación, Valor), también llamado HSB (Hue, Saturation, Brightness – Matiz, Saturación, Brillo), define un modelo de color en términos de\n",
    "sus componentes."
   ]
  },
  {
   "cell_type": "code",
   "execution_count": null,
   "metadata": {},
   "outputs": [],
   "source": [
    "from matplotlib.colors import hsv_to_rgb\n",
    "\n",
    "# Cuadraddos de muestra\n",
    "primer_cuadrado = np.full((50, 50, 3), fill_value ='698', dtype = np.uint8) / 255.0\n",
    "\n",
    "segundo_cuadrado = np.full((50, 50, 3), fill_value ='385', dtype = np.uint8) / 255.0\n",
    "\n",
    "plt.subplot(1, 2, 1)\n",
    "plt.imshow(hsv_to_rgb(primer_cuadrado))\n",
    "\n",
    "plt.subplot(1, 2, 2)\n",
    "plt.imshow(hsv_to_rgb(segundo_cuadrado))\n",
    "\n",
    "plt.show()"
   ]
  },
  {
   "cell_type": "code",
   "execution_count": null,
   "metadata": {},
   "outputs": [],
   "source": [
    "from turtle import *\n",
    "color('red', 'yellow')\n",
    "begin_fill()\n",
    "while True:\n",
    "    forward(200)\n",
    "    left(170)\n",
    "    if abs(pos()) < 1:\n",
    "        break\n",
    "end_fill()\n",
    "done()"
   ]
  },
  {
   "cell_type": "code",
   "execution_count": null,
   "metadata": {},
   "outputs": [],
   "source": [
    "from random import randint\n",
    "from colorsys import hsv_to_rgb\n",
    "\n",
    "#longitud del paso\n",
    "paso = \n",
    "\n",
    "#numero de pasos\n",
    "npasos = \n",
    "\n",
    "#cambia el valor de matiz de color\n",
    "hinc = \n",
    "\n",
    "#ancho de la linea\n",
    "turtle.width()\n",
    "\n",
    "#frontera para la caminata\n",
    "(w, h) = turtle.screensize()\n",
    "\n",
    "#velocidad al dibujar\n",
    "turtle.speed('fastest')\n",
    "\n",
    "#establece el color del modelo (1:255)\n",
    "turtle.colormode(1.0)\n",
    "\n",
    "#pone el fondo de color negro\n",
    "turtle.bgcolor('black')\n",
    "\n",
    "#define el matiz\n",
    "hue = 0.0\n",
    "\n",
    "for i in range(npasos):\n",
    "    #proporciona el valor del angulo del paso\n",
    "    turtle.setheading(randint(0,359))\n",
    "    \n",
    "    #cambia el color RGB del lapiz\n",
    "    turtle.color(hsv_to_rgb(hue, 1.0, 1.0))\n",
    "    \n",
    "    #cambia el color\n",
    "    hue += hinc\n",
    "    \n",
    "    #hace un paso hacia adelante\n",
    "    turtle.forward(paso)\n",
    "    \n",
    "    #calcula la posicion de la tortuga\n",
    "    (x,y) = turtle.pos()\n",
    "    \n",
    "    #revisa si esta dentro del cuadro\n",
    "    if abs(x) > w or abs(y) > h:\n",
    "        #si esta por fuera, se regresa\n",
    "        turtle.backward(paso)\n",
    "        \n",
    "turtle.done()"
   ]
  },
  {
   "cell_type": "code",
   "execution_count": null,
   "metadata": {},
   "outputs": [],
   "source": []
  }
 ],
 "metadata": {
  "hide_input": false,
  "kernelspec": {
   "display_name": "Python 3",
   "language": "python",
   "name": "python3"
  },
  "language_info": {
   "codemirror_mode": {
    "name": "ipython",
    "version": 3
   },
   "file_extension": ".py",
   "mimetype": "text/x-python",
   "name": "python",
   "nbconvert_exporter": "python",
   "pygments_lexer": "ipython3",
   "version": "3.7.1"
  },
  "toc": {
   "base_numbering": 1,
   "nav_menu": {},
   "number_sections": true,
   "sideBar": true,
   "skip_h1_title": false,
   "title_cell": "Table of Contents",
   "title_sidebar": "Contents",
   "toc_cell": false,
   "toc_position": {},
   "toc_section_display": true,
   "toc_window_display": false
  }
 },
 "nbformat": 4,
 "nbformat_minor": 5
}
